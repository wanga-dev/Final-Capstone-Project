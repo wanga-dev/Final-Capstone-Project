{
    "cells": [
        {
            "cell_type": "code",
            "execution_count": 3,
            "metadata": {
                "scrolled": true
            },
            "outputs": [
                {
                    "name": "stdout",
                    "output_type": "stream",
                    "text": "Requirement already satisfied: pandas in /opt/conda/envs/Python-3.8-main/lib/python3.8/site-packages (1.2.4)\nCollecting dash\n  Downloading dash-2.0.0-py3-none-any.whl (7.3 MB)\n\u001b[K     |\u2588\u2588\u2588\u2588\u2588\u2588\u2588\u2588\u2588\u2588\u2588\u2588\u2588\u2588\u2588\u2588\u2588\u2588\u2588\u2588\u2588\u2588\u2588\u2588\u2588\u2588\u2588\u2588\u2588\u2588\u2588\u2588| 7.3 MB 14.2 MB/s eta 0:00:01\n\u001b[?25hRequirement already satisfied: python-dateutil>=2.7.3 in /opt/conda/envs/Python-3.8-main/lib/python3.8/site-packages (from pandas) (2.8.1)\nRequirement already satisfied: pytz>=2017.3 in /opt/conda/envs/Python-3.8-main/lib/python3.8/site-packages (from pandas) (2021.1)\nRequirement already satisfied: numpy>=1.16.5 in /opt/conda/envs/Python-3.8-main/lib/python3.8/site-packages (from pandas) (1.19.2)\nRequirement already satisfied: six>=1.5 in /opt/conda/envs/Python-3.8-main/lib/python3.8/site-packages (from python-dateutil>=2.7.3->pandas) (1.15.0)\nCollecting dash-core-components==2.0.0\n  Downloading dash_core_components-2.0.0.tar.gz (3.4 kB)\nCollecting Flask>=1.0.4\n  Downloading Flask-2.0.2-py3-none-any.whl (95 kB)\n\u001b[K     |\u2588\u2588\u2588\u2588\u2588\u2588\u2588\u2588\u2588\u2588\u2588\u2588\u2588\u2588\u2588\u2588\u2588\u2588\u2588\u2588\u2588\u2588\u2588\u2588\u2588\u2588\u2588\u2588\u2588\u2588\u2588\u2588| 95 kB 10.1 MB/s eta 0:00:01\n\u001b[?25hCollecting flask-compress\n  Downloading Flask_Compress-1.10.1-py3-none-any.whl (7.9 kB)\nCollecting plotly>=5.0.0\n  Downloading plotly-5.4.0-py2.py3-none-any.whl (25.3 MB)\n\u001b[K     |\u2588\u2588\u2588\u2588\u2588\u2588\u2588\u2588\u2588\u2588\u2588\u2588\u2588\u2588\u2588\u2588\u2588\u2588\u2588\u2588\u2588\u2588\u2588\u2588\u2588\u2588\u2588\u2588\u2588\u2588\u2588\u2588| 25.3 MB 52.2 MB/s eta 0:00:01\n\u001b[?25hCollecting dash-html-components==2.0.0\n  Downloading dash_html_components-2.0.0.tar.gz (3.8 kB)\nCollecting dash-table==5.0.0\n  Downloading dash_table-5.0.0.tar.gz (3.4 kB)\nCollecting itsdangerous>=2.0\n  Downloading itsdangerous-2.0.1-py3-none-any.whl (18 kB)\nRequirement already satisfied: Werkzeug>=2.0 in /opt/conda/envs/Python-3.8-main/lib/python3.8/site-packages (from Flask>=1.0.4->dash) (2.0.1)\nRequirement already satisfied: Jinja2>=3.0 in /opt/conda/envs/Python-3.8-main/lib/python3.8/site-packages (from Flask>=1.0.4->dash) (3.0.0)\nRequirement already satisfied: click>=7.1.2 in /opt/conda/envs/Python-3.8-main/lib/python3.8/site-packages (from Flask>=1.0.4->dash) (7.1.2)\nRequirement already satisfied: MarkupSafe>=2.0.0rc2 in /opt/conda/envs/Python-3.8-main/lib/python3.8/site-packages (from Jinja2>=3.0->Flask>=1.0.4->dash) (2.0.1)\nCollecting tenacity>=6.2.0\n  Downloading tenacity-8.0.1-py3-none-any.whl (24 kB)\nCollecting brotli\n  Downloading Brotli-1.0.9-cp38-cp38-manylinux1_x86_64.whl (357 kB)\n\u001b[K     |\u2588\u2588\u2588\u2588\u2588\u2588\u2588\u2588\u2588\u2588\u2588\u2588\u2588\u2588\u2588\u2588\u2588\u2588\u2588\u2588\u2588\u2588\u2588\u2588\u2588\u2588\u2588\u2588\u2588\u2588\u2588\u2588| 357 kB 64.9 MB/s eta 0:00:01\n\u001b[?25hBuilding wheels for collected packages: dash-core-components, dash-html-components, dash-table\n  Building wheel for dash-core-components (setup.py) ... \u001b[?25ldone\n\u001b[?25h  Created wheel for dash-core-components: filename=dash_core_components-2.0.0-py3-none-any.whl size=3804 sha256=e5207bec80d4d992b27a534cf86be635ac887575bf8249657716f788fddce88d\n  Stored in directory: /tmp/wsuser/.cache/pip/wheels/52/e4/f3/16724791571a955a46d54650510c98c04ab7d339626aee27cc\n  Building wheel for dash-html-components (setup.py) ... \u001b[?25ldone\n\u001b[?25h  Created wheel for dash-html-components: filename=dash_html_components-2.0.0-py3-none-any.whl size=4069 sha256=7ed5c266c91f3e641eaf313216795de0ac73966abe2937adad31a0e61a7676a6\n  Stored in directory: /tmp/wsuser/.cache/pip/wheels/73/d8/8d/92f612c03c895f19bcc56a6c54be7bb41aaa698012a5624f60\n  Building wheel for dash-table (setup.py) ... \u001b[?25ldone\n\u001b[?25h  Created wheel for dash-table: filename=dash_table-5.0.0-py3-none-any.whl size=3897 sha256=e69269e0ffec4836bcd02379d0d448b7d24ac4ffc3369f799a6c8fc5d0acb102\n  Stored in directory: /tmp/wsuser/.cache/pip/wheels/a6/fb/f5/4adf241f384634f52028f15eab6a325e77b8766a0a00816bbf\nSuccessfully built dash-core-components dash-html-components dash-table\nInstalling collected packages: itsdangerous, tenacity, Flask, brotli, plotly, flask-compress, dash-table, dash-html-components, dash-core-components, dash\n  Attempting uninstall: plotly\n    Found existing installation: plotly 4.14.3\n    Uninstalling plotly-4.14.3:\n      Successfully uninstalled plotly-4.14.3\nSuccessfully installed Flask-2.0.2 brotli-1.0.9 dash-2.0.0 dash-core-components-2.0.0 dash-html-components-2.0.0 dash-table-5.0.0 flask-compress-1.10.1 itsdangerous-2.0.1 plotly-5.4.0 tenacity-8.0.1\n"
                }
            ],
            "source": "# install required python packages\n!pip3 install pandas dash"
        },
        {
            "cell_type": "code",
            "execution_count": 2,
            "metadata": {},
            "outputs": [
                {
                    "name": "stdout",
                    "output_type": "stream",
                    "text": "--2021-11-12 06:01:58--  https://cf-courses-data.s3.us.cloud-object-storage.appdomain.cloud/IBM-DS0321EN-SkillsNetwork/datasets/spacex_launch_dash.csv\nResolving cf-courses-data.s3.us.cloud-object-storage.appdomain.cloud (cf-courses-data.s3.us.cloud-object-storage.appdomain.cloud)... 198.23.119.245\nConnecting to cf-courses-data.s3.us.cloud-object-storage.appdomain.cloud (cf-courses-data.s3.us.cloud-object-storage.appdomain.cloud)|198.23.119.245|:443... connected.\nHTTP request sent, awaiting response... 200 OK\nLength: 3033 (3.0K) [text/csv]\nSaving to: \u2018spacex_launch_dash.csv.5\u2019\n\nspacex_launch_dash. 100%[===================>]   2.96K  --.-KB/s    in 0s      \n\n2021-11-12 06:01:59 (82.2 MB/s) - \u2018spacex_launch_dash.csv.5\u2019 saved [3033/3033]\n\n"
                }
            ],
            "source": "#Upload the SPaceX dataset developed in prior labs\n!wget \"https://cf-courses-data.s3.us.cloud-object-storage.appdomain.cloud/IBM-DS0321EN-SkillsNetwork/datasets/spacex_launch_dash.csv\""
        },
        {
            "cell_type": "code",
            "execution_count": 3,
            "metadata": {},
            "outputs": [
                {
                    "name": "stdout",
                    "output_type": "stream",
                    "text": "--2021-11-12 06:01:59--  https://cf-courses-data.s3.us.cloud-object-storage.appdomain.cloud/IBM-DS0321EN-SkillsNetwork/labs/module_3/spacex_dash_app.py\nResolving cf-courses-data.s3.us.cloud-object-storage.appdomain.cloud (cf-courses-data.s3.us.cloud-object-storage.appdomain.cloud)... 198.23.119.245\nConnecting to cf-courses-data.s3.us.cloud-object-storage.appdomain.cloud (cf-courses-data.s3.us.cloud-object-storage.appdomain.cloud)|198.23.119.245|:443... connected.\nHTTP request sent, awaiting response... 200 OK\nLength: 2110 (2.1K) [text/x-python]\nSaving to: \u2018spacex_dash_app.py.5\u2019\n\nspacex_dash_app.py. 100%[===================>]   2.06K  --.-KB/s    in 0s      \n\n2021-11-12 06:01:59 (57.8 MB/s) - \u2018spacex_dash_app.py.5\u2019 saved [2110/2110]\n\n"
                }
            ],
            "source": "# Download the skeleton DASH app to be completed in this lab\n!wget \"https://cf-courses-data.s3.us.cloud-object-storage.appdomain.cloud/IBM-DS0321EN-SkillsNetwork/labs/module_3/spacex_dash_app.py\""
        },
        {
            "cell_type": "code",
            "execution_count": 9,
            "metadata": {},
            "outputs": [
                {
                    "name": "stdout",
                    "output_type": "stream",
                    "text": "Collecting dash==1.19.0\n  Downloading dash-1.19.0.tar.gz (75 kB)\n\u001b[K     |\u2588\u2588\u2588\u2588\u2588\u2588\u2588\u2588\u2588\u2588\u2588\u2588\u2588\u2588\u2588\u2588\u2588\u2588\u2588\u2588\u2588\u2588\u2588\u2588\u2588\u2588\u2588\u2588\u2588\u2588\u2588\u2588| 75 kB 6.6 MB/s  eta 0:00:01\n\u001b[?25hRequirement already satisfied: Flask>=1.0.4 in /opt/conda/envs/Python-3.8-main/lib/python3.8/site-packages (from dash==1.19.0) (2.0.2)\nRequirement already satisfied: flask-compress in /opt/conda/envs/Python-3.8-main/lib/python3.8/site-packages (from dash==1.19.0) (1.10.1)\nRequirement already satisfied: plotly in /opt/conda/envs/Python-3.8-main/lib/python3.8/site-packages (from dash==1.19.0) (5.4.0)\nCollecting dash_renderer==1.9.0\n  Downloading dash_renderer-1.9.0.tar.gz (1.0 MB)\n\u001b[K     |\u2588\u2588\u2588\u2588\u2588\u2588\u2588\u2588\u2588\u2588\u2588\u2588\u2588\u2588\u2588\u2588\u2588\u2588\u2588\u2588\u2588\u2588\u2588\u2588\u2588\u2588\u2588\u2588\u2588\u2588\u2588\u2588| 1.0 MB 47.0 MB/s eta 0:00:01\n\u001b[?25hCollecting dash-core-components==1.15.0\n  Downloading dash_core_components-1.15.0.tar.gz (3.5 MB)\n\u001b[K     |\u2588\u2588\u2588\u2588\u2588\u2588\u2588\u2588\u2588\u2588\u2588\u2588\u2588\u2588\u2588\u2588\u2588\u2588\u2588\u2588\u2588\u2588\u2588\u2588\u2588\u2588\u2588\u2588\u2588\u2588\u2588\u2588| 3.5 MB 57.4 MB/s eta 0:00:01\n\u001b[?25hCollecting dash-html-components==1.1.2\n  Downloading dash_html_components-1.1.2.tar.gz (188 kB)\n\u001b[K     |\u2588\u2588\u2588\u2588\u2588\u2588\u2588\u2588\u2588\u2588\u2588\u2588\u2588\u2588\u2588\u2588\u2588\u2588\u2588\u2588\u2588\u2588\u2588\u2588\u2588\u2588\u2588\u2588\u2588\u2588\u2588\u2588| 188 kB 67.5 MB/s eta 0:00:01\n\u001b[?25hCollecting dash-table==4.11.2\n  Downloading dash_table-4.11.2.tar.gz (1.8 MB)\n\u001b[K     |\u2588\u2588\u2588\u2588\u2588\u2588\u2588\u2588\u2588\u2588\u2588\u2588\u2588\u2588\u2588\u2588\u2588\u2588\u2588\u2588\u2588\u2588\u2588\u2588\u2588\u2588\u2588\u2588\u2588\u2588\u2588\u2588| 1.8 MB 56.7 MB/s eta 0:00:01\n\u001b[?25hRequirement already satisfied: future in /opt/conda/envs/Python-3.8-main/lib/python3.8/site-packages (from dash==1.19.0) (0.18.2)\nRequirement already satisfied: click>=7.1.2 in /opt/conda/envs/Python-3.8-main/lib/python3.8/site-packages (from Flask>=1.0.4->dash==1.19.0) (7.1.2)\nRequirement already satisfied: Jinja2>=3.0 in /opt/conda/envs/Python-3.8-main/lib/python3.8/site-packages (from Flask>=1.0.4->dash==1.19.0) (3.0.0)\nRequirement already satisfied: Werkzeug>=2.0 in /opt/conda/envs/Python-3.8-main/lib/python3.8/site-packages (from Flask>=1.0.4->dash==1.19.0) (2.0.1)\nRequirement already satisfied: itsdangerous>=2.0 in /opt/conda/envs/Python-3.8-main/lib/python3.8/site-packages (from Flask>=1.0.4->dash==1.19.0) (2.0.1)\nRequirement already satisfied: MarkupSafe>=2.0.0rc2 in /opt/conda/envs/Python-3.8-main/lib/python3.8/site-packages (from Jinja2>=3.0->Flask>=1.0.4->dash==1.19.0) (2.0.1)\nRequirement already satisfied: brotli in /opt/conda/envs/Python-3.8-main/lib/python3.8/site-packages (from flask-compress->dash==1.19.0) (1.0.9)\nRequirement already satisfied: six in /opt/conda/envs/Python-3.8-main/lib/python3.8/site-packages (from plotly->dash==1.19.0) (1.15.0)\nRequirement already satisfied: tenacity>=6.2.0 in /opt/conda/envs/Python-3.8-main/lib/python3.8/site-packages (from plotly->dash==1.19.0) (8.0.1)\nBuilding wheels for collected packages: dash, dash-core-components, dash-html-components, dash-renderer, dash-table\n  Building wheel for dash (setup.py) ... \u001b[?25ldone\n\u001b[?25h  Created wheel for dash: filename=dash-1.19.0-py3-none-any.whl size=84011 sha256=0dcd44300de8a5485b00a8543e74042a5b9add4a6ea9b5d11a743f7227e673f3\n  Stored in directory: /tmp/wsuser/.cache/pip/wheels/e7/27/2f/a9f9bf858843b5365bcb311a80f0b2379737caf4ec50b2ae3a\n  Building wheel for dash-core-components (setup.py) ... \u001b[?25ldone\n\u001b[?25h  Created wheel for dash-core-components: filename=dash_core_components-1.15.0-py3-none-any.whl size=3527011 sha256=a0d4ac6918781b1608f0201d7d5b366edb31065a262a093dd5f78f601d918c21\n  Stored in directory: /tmp/wsuser/.cache/pip/wheels/e3/e6/0e/759ca580c568aad2436521fa6df67f53a141dc1ab8f040c4c7\n  Building wheel for dash-html-components (setup.py) ... \u001b[?25ldone\n\u001b[?25h  Created wheel for dash-html-components: filename=dash_html_components-1.1.2-py3-none-any.whl size=427830 sha256=34380960168ad6f886ee737b57077af2f38583de51c0584f66ad3d69c56f3eb2\n  Stored in directory: /tmp/wsuser/.cache/pip/wheels/8a/bc/a8/7ad1d354777cfe77413fd7a092e07d7cc82f88f98997f4c463\n  Building wheel for dash-renderer (setup.py) ... \u001b[?25ldone\n\u001b[?25h  Created wheel for dash-renderer: filename=dash_renderer-1.9.0-py3-none-any.whl size=1014871 sha256=9150b813a33b6cc3bdc1921de4cf006e5a6c0286b462b485ee545c1c35f67e75\n  Stored in directory: /tmp/wsuser/.cache/pip/wheels/08/94/09/e11ba8ae5d97e1c8ff5be0ac1f7cf42642eec6ea94ed1e4b44\n  Building wheel for dash-table (setup.py) ... \u001b[?25ldone\n\u001b[?25h  Created wheel for dash-table: filename=dash_table-4.11.2-py3-none-any.whl size=1839868 sha256=dd755c69f510c41eaeabdda66cb1c0a16dd72f3d2c80d2ad18da3579be4c5a0f\n  Stored in directory: /tmp/wsuser/.cache/pip/wheels/cc/1d/a0/720dcf854e410eddbe44f8434f4d3a6332fdd085178eeac4f9\nSuccessfully built dash dash-core-components dash-html-components dash-renderer dash-table\nInstalling collected packages: dash-table, dash-renderer, dash-html-components, dash-core-components, dash\n  Attempting uninstall: dash-table\n    Found existing installation: dash-table 5.0.0\n    Uninstalling dash-table-5.0.0:\n      Successfully uninstalled dash-table-5.0.0\n  Attempting uninstall: dash-html-components\n    Found existing installation: dash-html-components 2.0.0\n    Uninstalling dash-html-components-2.0.0:\n      Successfully uninstalled dash-html-components-2.0.0\n  Attempting uninstall: dash-core-components\n    Found existing installation: dash-core-components 2.0.0\n    Uninstalling dash-core-components-2.0.0:\n      Successfully uninstalled dash-core-components-2.0.0\n  Attempting uninstall: dash\n    Found existing installation: dash 2.0.0\n    Uninstalling dash-2.0.0:\n      Successfully uninstalled dash-2.0.0\nSuccessfully installed dash-1.19.0 dash-core-components-1.15.0 dash-html-components-1.1.2 dash-renderer-1.9.0 dash-table-4.11.2\nCollecting jupyter_dash\n  Downloading jupyter_dash-0.4.0-py3-none-any.whl (20 kB)\nRequirement already satisfied: dash in /opt/conda/envs/Python-3.8-main/lib/python3.8/site-packages (from jupyter_dash) (1.19.0)\nCollecting ansi2html\n  Downloading ansi2html-1.6.0-py3-none-any.whl (14 kB)\nRequirement already satisfied: ipykernel in /opt/conda/envs/Python-3.8-main/lib/python3.8/site-packages (from jupyter_dash) (6.4.1)\nRequirement already satisfied: ipython in /opt/conda/envs/Python-3.8-main/lib/python3.8/site-packages (from jupyter_dash) (7.27.0)\nRequirement already satisfied: requests in /opt/conda/envs/Python-3.8-main/lib/python3.8/site-packages (from jupyter_dash) (2.25.1)\nRequirement already satisfied: flask in /opt/conda/envs/Python-3.8-main/lib/python3.8/site-packages (from jupyter_dash) (2.0.2)\nRequirement already satisfied: retrying in /opt/conda/envs/Python-3.8-main/lib/python3.8/site-packages (from jupyter_dash) (1.3.3)\nRequirement already satisfied: dash-html-components==1.1.2 in /opt/conda/envs/Python-3.8-main/lib/python3.8/site-packages (from dash->jupyter_dash) (1.1.2)\nRequirement already satisfied: dash-table==4.11.2 in /opt/conda/envs/Python-3.8-main/lib/python3.8/site-packages (from dash->jupyter_dash) (4.11.2)\nRequirement already satisfied: dash-renderer==1.9.0 in /opt/conda/envs/Python-3.8-main/lib/python3.8/site-packages (from dash->jupyter_dash) (1.9.0)\nRequirement already satisfied: dash-core-components==1.15.0 in /opt/conda/envs/Python-3.8-main/lib/python3.8/site-packages (from dash->jupyter_dash) (1.15.0)\nRequirement already satisfied: future in /opt/conda/envs/Python-3.8-main/lib/python3.8/site-packages (from dash->jupyter_dash) (0.18.2)\nRequirement already satisfied: plotly in /opt/conda/envs/Python-3.8-main/lib/python3.8/site-packages (from dash->jupyter_dash) (5.4.0)\nRequirement already satisfied: flask-compress in /opt/conda/envs/Python-3.8-main/lib/python3.8/site-packages (from dash->jupyter_dash) (1.10.1)\nRequirement already satisfied: Werkzeug>=2.0 in /opt/conda/envs/Python-3.8-main/lib/python3.8/site-packages (from flask->jupyter_dash) (2.0.1)\nRequirement already satisfied: itsdangerous>=2.0 in /opt/conda/envs/Python-3.8-main/lib/python3.8/site-packages (from flask->jupyter_dash) (2.0.1)\nRequirement already satisfied: Jinja2>=3.0 in /opt/conda/envs/Python-3.8-main/lib/python3.8/site-packages (from flask->jupyter_dash) (3.0.0)\nRequirement already satisfied: click>=7.1.2 in /opt/conda/envs/Python-3.8-main/lib/python3.8/site-packages (from flask->jupyter_dash) (7.1.2)\nRequirement already satisfied: MarkupSafe>=2.0.0rc2 in /opt/conda/envs/Python-3.8-main/lib/python3.8/site-packages (from Jinja2>=3.0->flask->jupyter_dash) (2.0.1)\nRequirement already satisfied: brotli in /opt/conda/envs/Python-3.8-main/lib/python3.8/site-packages (from flask-compress->dash->jupyter_dash) (1.0.9)\nRequirement already satisfied: tornado<7.0,>=4.2 in /opt/conda/envs/Python-3.8-main/lib/python3.8/site-packages (from ipykernel->jupyter_dash) (6.1)\nRequirement already satisfied: jupyter-client<8.0 in /opt/conda/envs/Python-3.8-main/lib/python3.8/site-packages (from ipykernel->jupyter_dash) (6.1.12)\nRequirement already satisfied: debugpy<2.0,>=1.0.0 in /opt/conda/envs/Python-3.8-main/lib/python3.8/site-packages (from ipykernel->jupyter_dash) (1.4.1)\nRequirement already satisfied: traitlets<6.0,>=4.1.0 in /opt/conda/envs/Python-3.8-main/lib/python3.8/site-packages (from ipykernel->jupyter_dash) (5.0.5)\nRequirement already satisfied: matplotlib-inline<0.2.0,>=0.1.0 in /opt/conda/envs/Python-3.8-main/lib/python3.8/site-packages (from ipykernel->jupyter_dash) (0.1.2)\nRequirement already satisfied: ipython-genutils in /opt/conda/envs/Python-3.8-main/lib/python3.8/site-packages (from ipykernel->jupyter_dash) (0.2.0)\nRequirement already satisfied: pygments in /opt/conda/envs/Python-3.8-main/lib/python3.8/site-packages (from ipython->jupyter_dash) (2.9.0)\nRequirement already satisfied: pickleshare in /opt/conda/envs/Python-3.8-main/lib/python3.8/site-packages (from ipython->jupyter_dash) (0.7.5)\nRequirement already satisfied: setuptools>=18.5 in /opt/conda/envs/Python-3.8-main/lib/python3.8/site-packages (from ipython->jupyter_dash) (52.0.0.post20211006)\nRequirement already satisfied: backcall in /opt/conda/envs/Python-3.8-main/lib/python3.8/site-packages (from ipython->jupyter_dash) (0.2.0)\nRequirement already satisfied: prompt-toolkit!=3.0.0,!=3.0.1,<3.1.0,>=2.0.0 in /opt/conda/envs/Python-3.8-main/lib/python3.8/site-packages (from ipython->jupyter_dash) (3.0.20)\nRequirement already satisfied: decorator in /opt/conda/envs/Python-3.8-main/lib/python3.8/site-packages (from ipython->jupyter_dash) (5.0.9)\nRequirement already satisfied: pexpect>4.3 in /opt/conda/envs/Python-3.8-main/lib/python3.8/site-packages (from ipython->jupyter_dash) (4.8.0)\nRequirement already satisfied: jedi>=0.16 in /opt/conda/envs/Python-3.8-main/lib/python3.8/site-packages (from ipython->jupyter_dash) (0.17.2)\nRequirement already satisfied: parso<0.8.0,>=0.7.0 in /opt/conda/envs/Python-3.8-main/lib/python3.8/site-packages (from jedi>=0.16->ipython->jupyter_dash) (0.7.0)\nRequirement already satisfied: python-dateutil>=2.1 in /opt/conda/envs/Python-3.8-main/lib/python3.8/site-packages (from jupyter-client<8.0->ipykernel->jupyter_dash) (2.8.1)\nRequirement already satisfied: pyzmq>=13 in /opt/conda/envs/Python-3.8-main/lib/python3.8/site-packages (from jupyter-client<8.0->ipykernel->jupyter_dash) (20.0.0)\nRequirement already satisfied: jupyter-core>=4.6.0 in /opt/conda/envs/Python-3.8-main/lib/python3.8/site-packages (from jupyter-client<8.0->ipykernel->jupyter_dash) (4.7.1)\nRequirement already satisfied: ptyprocess>=0.5 in /opt/conda/envs/Python-3.8-main/lib/python3.8/site-packages (from pexpect>4.3->ipython->jupyter_dash) (0.7.0)\nRequirement already satisfied: wcwidth in /opt/conda/envs/Python-3.8-main/lib/python3.8/site-packages (from prompt-toolkit!=3.0.0,!=3.0.1,<3.1.0,>=2.0.0->ipython->jupyter_dash) (0.2.5)\nRequirement already satisfied: six>=1.5 in /opt/conda/envs/Python-3.8-main/lib/python3.8/site-packages (from python-dateutil>=2.1->jupyter-client<8.0->ipykernel->jupyter_dash) (1.15.0)\nRequirement already satisfied: tenacity>=6.2.0 in /opt/conda/envs/Python-3.8-main/lib/python3.8/site-packages (from plotly->dash->jupyter_dash) (8.0.1)\nRequirement already satisfied: idna<3,>=2.5 in /opt/conda/envs/Python-3.8-main/lib/python3.8/site-packages (from requests->jupyter_dash) (2.8)\nRequirement already satisfied: certifi>=2017.4.17 in /opt/conda/envs/Python-3.8-main/lib/python3.8/site-packages (from requests->jupyter_dash) (2021.10.8)\nRequirement already satisfied: chardet<5,>=3.0.2 in /opt/conda/envs/Python-3.8-main/lib/python3.8/site-packages (from requests->jupyter_dash) (3.0.4)\nRequirement already satisfied: urllib3<1.27,>=1.21.1 in /opt/conda/envs/Python-3.8-main/lib/python3.8/site-packages (from requests->jupyter_dash) (1.26.6)\nInstalling collected packages: ansi2html, jupyter-dash\nSuccessfully installed ansi2html-1.6.0 jupyter-dash-0.4.0\nRequirement already satisfied: plotly in /opt/conda/envs/Python-3.8-main/lib/python3.8/site-packages (5.4.0)\nRequirement already satisfied: tenacity>=6.2.0 in /opt/conda/envs/Python-3.8-main/lib/python3.8/site-packages (from plotly) (8.0.1)\nRequirement already satisfied: six in /opt/conda/envs/Python-3.8-main/lib/python3.8/site-packages (from plotly) (1.15.0)\n"
                }
            ],
            "source": "# Import required libraries part 1\nimport pandas as pd\nimport dash\nfrom dash import no_update\n!pip install dash==1.19.0\n!pip install jupyter_dash\n!pip install --upgrade plotly\nimport plotly.graph_objects as go\n"
        },
        {
            "cell_type": "code",
            "execution_count": 4,
            "metadata": {},
            "outputs": [
                {
                    "name": "stderr",
                    "output_type": "stream",
                    "text": "/tmp/wsuser/ipykernel_154/296587444.py:4: UserWarning: \nThe dash_html_components package is deprecated. Please replace\n`import dash_html_components as html` with `from dash import html`\n  import dash_html_components as html\n/tmp/wsuser/ipykernel_154/296587444.py:5: UserWarning: \nThe dash_core_components package is deprecated. Please replace\n`import dash_core_components as dcc` with `from dash import dcc`\n  import dash_core_components as dcc\n"
                }
            ],
            "source": "# Import required libraries part 2\nimport pandas as pd\nimport dash\nimport dash_html_components as html\nimport dash_core_components as dcc\nfrom dash.dependencies import Input, Output,State\nimport plotly.express as px\n"
        },
        {
            "cell_type": "code",
            "execution_count": 10,
            "metadata": {},
            "outputs": [],
            "source": "# Create a dash application\nfrom jupyter_dash import JupyterDash\napp = JupyterDash(__name__)"
        },
        {
            "cell_type": "code",
            "execution_count": 5,
            "metadata": {},
            "outputs": [
                {
                    "data": {
                        "text/html": "<div>\n<style scoped>\n    .dataframe tbody tr th:only-of-type {\n        vertical-align: middle;\n    }\n\n    .dataframe tbody tr th {\n        vertical-align: top;\n    }\n\n    .dataframe thead th {\n        text-align: right;\n    }\n</style>\n<table border=\"1\" class=\"dataframe\">\n  <thead>\n    <tr style=\"text-align: right;\">\n      <th></th>\n      <th>Unnamed: 0</th>\n      <th>Flight Number</th>\n      <th>Launch Site</th>\n      <th>Mission Outcome</th>\n      <th>class</th>\n      <th>Payload Mass (kg)</th>\n      <th>Booster Version</th>\n      <th>Booster Version Category</th>\n    </tr>\n  </thead>\n  <tbody>\n    <tr>\n      <th>0</th>\n      <td>0</td>\n      <td>1</td>\n      <td>CCAFS LC-40</td>\n      <td>Success</td>\n      <td>0</td>\n      <td>0.0</td>\n      <td>F9 v1.0  B0003</td>\n      <td>v1.0</td>\n    </tr>\n    <tr>\n      <th>1</th>\n      <td>1</td>\n      <td>2</td>\n      <td>CCAFS LC-40</td>\n      <td>Success</td>\n      <td>0</td>\n      <td>0.0</td>\n      <td>F9 v1.0  B0004</td>\n      <td>v1.0</td>\n    </tr>\n    <tr>\n      <th>2</th>\n      <td>2</td>\n      <td>3</td>\n      <td>CCAFS LC-40</td>\n      <td>Success</td>\n      <td>0</td>\n      <td>525.0</td>\n      <td>F9 v1.0  B0005</td>\n      <td>v1.0</td>\n    </tr>\n    <tr>\n      <th>3</th>\n      <td>3</td>\n      <td>4</td>\n      <td>CCAFS LC-40</td>\n      <td>Success</td>\n      <td>0</td>\n      <td>500.0</td>\n      <td>F9 v1.0  B0006</td>\n      <td>v1.0</td>\n    </tr>\n    <tr>\n      <th>4</th>\n      <td>4</td>\n      <td>5</td>\n      <td>CCAFS LC-40</td>\n      <td>Success</td>\n      <td>0</td>\n      <td>677.0</td>\n      <td>F9 v1.0  B0007</td>\n      <td>v1.0</td>\n    </tr>\n  </tbody>\n</table>\n</div>",
                        "text/plain": "   Unnamed: 0  Flight Number  Launch Site Mission Outcome  class  \\\n0           0              1  CCAFS LC-40         Success      0   \n1           1              2  CCAFS LC-40         Success      0   \n2           2              3  CCAFS LC-40         Success      0   \n3           3              4  CCAFS LC-40         Success      0   \n4           4              5  CCAFS LC-40         Success      0   \n\n   Payload Mass (kg) Booster Version Booster Version Category  \n0                0.0  F9 v1.0  B0003                     v1.0  \n1                0.0  F9 v1.0  B0004                     v1.0  \n2              525.0  F9 v1.0  B0005                     v1.0  \n3              500.0  F9 v1.0  B0006                     v1.0  \n4              677.0  F9 v1.0  B0007                     v1.0  "
                    },
                    "execution_count": 5,
                    "metadata": {},
                    "output_type": "execute_result"
                }
            ],
            "source": "# Read the spaceX data into pandas dataframe\nspacex_df = pd.read_csv(\"https://cf-courses-data.s3.us.cloud-object-storage.appdomain.cloud/IBM-DS0321EN-SkillsNetwork/datasets/spacex_launch_dash.csv\")\nmax_payload = spacex_df['Payload Mass (kg)'].max()\nmin_payload = spacex_df['Payload Mass (kg)'].min()\nspacex_df.head()"
        },
        {
            "cell_type": "code",
            "execution_count": 6,
            "metadata": {},
            "outputs": [
                {
                    "data": {
                        "text/plain": "array(['CCAFS LC-40', 'VAFB SLC-4E', 'KSC LC-39A', 'CCAFS SLC-40'],\n      dtype=object)"
                    },
                    "execution_count": 6,
                    "metadata": {},
                    "output_type": "execute_result"
                }
            ],
            "source": "#list of unique Launch site names\nspacex_df['Launch Site'].unique()"
        },
        {
            "cell_type": "code",
            "execution_count": 9,
            "metadata": {},
            "outputs": [
                {
                    "data": {
                        "text/plain": "Dropdown(id='site-dropdown', options=[{'label': 'All Sites', 'value': 'ALL'}, {'label': 'CCAFS LC-40', 'value': 'CCAFS LC-40'}, {'label': 'VAFB SLC-4E', 'value': 'VAFB SLC-4E'}, {'label': 'KSC LC-39A', 'value': 'KSC LC-39A'}, {'label': 'CCAFS SLC-40', 'value': 'CCAFS SLC-40'}], value='ALL', placeholder='Select a Launch Site here', searchable=True)"
                    },
                    "execution_count": 9,
                    "metadata": {},
                    "output_type": "execute_result"
                }
            ],
            "source": "# TASK 1: Add a dropdown list to enable Launch Site selection\n# The default select value is for ALL sites\n# dcc.Dropdown(id='site-dropdown',...)\ndcc.Dropdown(id='site-dropdown',options=[{'label': 'All Sites', 'value': 'ALL'},\n    {'label':'CCAFS LC-40','value':'CCAFS LC-40'},\n    {'label':'VAFB SLC-4E','value':'VAFB SLC-4E'},\n    {'label':'KSC LC-39A','value':'KSC LC-39A'},\n    {'label':'CCAFS SLC-40','value':'CCAFS SLC-40'}],\n    value='ALL',\n    placeholder='Select a Launch Site here',\n    searchable=True,\n   )    "
        },
        {
            "cell_type": "code",
            "execution_count": 11,
            "metadata": {},
            "outputs": [],
            "source": "# TASK 1: Add a dropdown list to enable Launch Site selection\n# The default select value is for ALL sites\n# dcc.Dropdown(id='site-dropdown',...)\n\n# Create a dash application\n\napp = JupyterDash(__name__)\n\n# Create an app layout\napp.layout = html.Div(children=[html.H1('SpaceX Launch Records Dashboard',\n                                        style={'textAlign': 'center', 'color': '#503D36',\n                                               'font-size': 40}),\n                                # TASK 1: Add a dropdown list to enable Launch Site selection\n                                # The default select value is for ALL sites\n                                # dcc.Dropdown(id='site-dropdown',...)\n                                dcc.Dropdown(id='site-dropdown',\n                                                options=[\n                                                    {'label': 'All Sites', 'value': 'ALL'},\n                                                    {'label': 'CCAFS LC-40', 'value': 'CCAFS LC-40'},\n                                                    {'label': 'CCAFS SLC-40', 'value': 'CCAFS SLC-40'},\n                                                    {'label': 'KSC LC-39A', 'value': 'KSC LC-39A'},\n                                                    {'label': 'VAFB SLC-4E', 'value': 'VAFB SLC-4E'},\n                                                ],\n                                                value='ALL',\n                                                placeholder=\"Select a Launch Site here\",\n                                                searchable=True\n                                                ),\n                                    html.Br(),\n\n                                # TASK 2: Add a pie chart to show the total successful launches count for all sites\n                                # If a specific launch site was selected, show the Success vs. Failed counts for the site\n                                html.Div(dcc.Graph(id='success-pie-chart')),\n                                html.Br(),\n\n                                html.P(\"Payload range (Kg):\"),\n                                # TASK 3: Add a slider to select payload range\n                                #dcc.RangeSlider(id='payload-slider',...)\n                                dcc.RangeSlider(id='payload-slider',min=0,max=10000,step=1000,value=[min_payload,max_payload]),\n\n                                # TASK 4: Add a scatter chart to show the correlation between payload and launch success\n                                html.Div(dcc.Graph(id='success-payload-scatter-chart')),\n                                ])\n\n\n"
        },
        {
            "cell_type": "code",
            "execution_count": 12,
            "metadata": {},
            "outputs": [],
            "source": "# TASK 2:\n# Add a callback function for `site-dropdown` as input, `success-pie-chart` as output\n@app.callback(Output(component_id='success-pie-chart',component_property='figure'),\nInput(component_id='site-dropdown',component_property='value'))\n\ndef get_pie_chart(site):\n    filtered_df=spacex_df\n    if site=='ALL':\n        fig=px.pie(spacex_df,values='class',\n        names='Launch Site',\n        title='Total Success Launches By Site')\n        return fig\n    else:\n        filtered_df=spacex_df[spacex_df['Launch Site']== site]\n        df1=filtered_df.groupby(['Launch Site','class']).size().reset_index(name='class count')\n        fig = px.pie(df1, values='class count', names='class', title=f\"Total Success Launches for site {site}\")\n        return fig"
        },
        {
            "cell_type": "code",
            "execution_count": null,
            "metadata": {},
            "outputs": [],
            "source": "# TASK 4:\n# Add a callback function for `site-dropdown` and `payload-slider` as inputs, `success-payload-scatter-chart` as output\n@app.callback(Output(component_id='success-payload-scatter-chart',component_property='figure'),\n                [Input(component_id='site-dropdown',component_property='value'),\n                Input(component_id='payload-slider',component_property='value')])\ndef scatter(site,payload):\n    low, high = (payload[0],payload[1])\n    mask=spacex_df[spacex_df['Payload Mass (kg)'].between(low,high)]\n    if site=='ALL':\n        fig=px.scatter(mask,x='Payload Mass (kg)',y='class',color='Booster Version Category',title='Success count on Payload mass for all sites')\n        return fig\n    else:\n        mask_filtered=mask[mask['Launch Site']==site]\n        fig=px.scatter(mask_filtered,x='Payload Mass (kg)',y='class',color='Booster Version Category',title='Success count on Payload Mass for' + site)\n        return fig\n\n# Run the app\nif __name__ == '__main__':\n    #app.run_server(mode=\"inline\", host=\"localhost\", debug=True, dev_tools_ui=False, dev_tools_props_check=False)\n    app.run_server(mode='jupyterlab', port = 8000 ,dev_tools_ui=True, debug=True, dev_tools_hot_reload =True, threaded=True)"
        },
        {
            "cell_type": "code",
            "execution_count": null,
            "metadata": {},
            "outputs": [],
            "source": ""
        }
    ],
    "metadata": {
        "kernelspec": {
            "display_name": "Python 3.8",
            "language": "python",
            "name": "python3"
        },
        "language_info": {
            "codemirror_mode": {
                "name": "ipython",
                "version": 3
            },
            "file_extension": ".py",
            "mimetype": "text/x-python",
            "name": "python",
            "nbconvert_exporter": "python",
            "pygments_lexer": "ipython3",
            "version": "3.8.12"
        }
    },
    "nbformat": 4,
    "nbformat_minor": 1
}